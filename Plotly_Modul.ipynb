{
  "nbformat": 4,
  "nbformat_minor": 0,
  "metadata": {
    "colab": {
      "name": "Plotly Modul.ipynb",
      "provenance": [],
      "include_colab_link": true
    },
    "kernelspec": {
      "name": "python3",
      "display_name": "Python 3"
    }
  },
  "cells": [
    {
      "cell_type": "markdown",
      "metadata": {
        "id": "view-in-github",
        "colab_type": "text"
      },
      "source": [
        "<a href=\"https://colab.research.google.com/github/Iprass30/Pusat-Studi-Data-Sains-UAD/blob/main/Plotly_Modul.ipynb\" target=\"_parent\"><img src=\"https://colab.research.google.com/assets/colab-badge.svg\" alt=\"Open In Colab\"/></a>"
      ]
    },
    {
      "cell_type": "markdown",
      "metadata": {
        "id": "VBRuyzgZ_RLz"
      },
      "source": [
        "# Visualisasi Data Dengan **PLOTLY** Dasar\r\n",
        "Pusat Studi Data Sains (PSDS) Program Studi Matematika UAD\r\n"
      ]
    },
    {
      "cell_type": "markdown",
      "metadata": {
        "id": "UhirA2BuAm7C"
      },
      "source": [
        "### **Pengenalan Plotly**"
      ]
    },
    {
      "cell_type": "markdown",
      "metadata": {
        "id": "PjNf_h0e_hA2"
      },
      "source": [
        "Plotly adalah salah satu modul untuk visualisasi pada python. Modul ini memiliki kelebihan untuk membuat visualisasi data yang interaktif. Informasi lengkap mengenai modul ini bisa diperoleh di link di bawah ini:\r\n",
        "\r\n",
        "https://plotly.com/python/basic-charts/\r\n",
        "\r\n",
        "\r\n",
        "Modul lain untuk visualisasi yang biasa digunakan adalah Matplotlib dan Seaborn. Keduanya adalah modul visualisasi yang tidak interaktif. Kemudian, perlu diketahui juga bahwa Seaborn dibangun berdasarkan Matplotlib, sehingga Seaborn merupakan modul Matplotlib yang lebih advance."
      ]
    },
    {
      "cell_type": "markdown",
      "metadata": {
        "id": "PUbxz87jAlLm"
      },
      "source": [
        "### **Aktivitas Modul**"
      ]
    },
    {
      "cell_type": "markdown",
      "metadata": {
        "id": "yImZL6I_AwPr"
      },
      "source": [
        "Pada modul ini, temen-temen akan belajar dengan mandiri. Untuk data memahami modul ini dengan baik, temen-temen harus melakukan semua aktivitas di modul ini sendiri. Setiap materi contoh visualisasi disajikan dalam bentuk gambar, sehingga untuk bisa melakukan visualisasi temen-temen harus mengetikkannya pada cell code di bawahnya. Jika terjadi kesalahan, ucapkan istigfar, dan cek kembali apakah ketikan program anda sudah benar atau masih terdapat kesalahan. Kesalahan kecil seperti kurang koma, spasi, dan lainnya sangat sensitif pada aktivitas ini. Fokuslah pada modul kalian masing-masing dan jangan sibuk bertanya kepada teman kalian saat koding kamu error, karena fokus untuk memperbaiki kesalahan sendiri jauh lebih baik daripada mecermati kesalahan orang lain. \r\n",
        "\r\n",
        "Terima Kasih\r\n",
        "\r\n",
        "Selamat belajar!!!"
      ]
    },
    {
      "cell_type": "code",
      "metadata": {
        "id": "VnAhHuVmDLsT"
      },
      "source": [
        "#Import Modul PloltLy Express\r\n",
        "import plotly.express as px"
      ],
      "execution_count": null,
      "outputs": []
    },
    {
      "cell_type": "markdown",
      "metadata": {
        "id": "pGYkJkHcDcVe"
      },
      "source": [
        "### Dasar-dasar Visualisasi Data Menggunakan PlotLy\r\n",
        "\r\n",
        "Berikut adalah bagian-bagian pada sebuah halaman visualisasi data pada library PlotLy\r\n",
        "\r\n",
        "![alt text](https://drive.google.com/uc?id=1l5LQM3-08pQDEcSAgJJirjvT9aThBfdR\r\n",
        ")\r\n",
        "\r\n"
      ]
    },
    {
      "cell_type": "markdown",
      "metadata": {
        "id": "ntwmnNuIB3Ff"
      },
      "source": [
        "## Scater Plot"
      ]
    },
    {
      "cell_type": "markdown",
      "metadata": {
        "id": "FgJBORwkB5rq"
      },
      "source": [
        "Scatter Plot adalah plot berupa titik-titik data dalam dimensi 2 ataupun 3. Tujuan melakukan plot dalam bentuk ini adalah melihat sebaran data, melihat pola-pola sebaran data dalam bentuk kelompok, bisa juga untuk melihat pola keterkaitan(korelasi), ataupun kedekatan antar titik data. Pada modul ini kita akan mempelajari visualisasi data untuk 2 dimensi dulu."
      ]
    },
    {
      "cell_type": "markdown",
      "metadata": {
        "id": "TOAJPtxbCXBa"
      },
      "source": [
        "Secara umum, susunan sytax untuk Scater Plot pada Modul PlotLy adalah sebagai berikut:\r\n",
        "\r\n",
        "Visualisasi data 2 list (list sumbu x dan list sumbu y\r\n",
        "```\r\n",
        "import plotly.express as px\r\n",
        "fig = px.scatter(x=[0, 1, 2, 3, 4], \r\n",
        "                 y=[0, 1, 4, 9, 16])\r\n",
        "fig.show()\r\n",
        "```\r\n",
        "\r\n",
        "Visualisasi data 2 list dalam DataFrame\r\n",
        "\r\n",
        "```\r\n",
        "fig = px.scatter(df,                       #DataFrame yang akan di plot\r\n",
        "                 x=\"sepal_width\",          #Data untuk sumbu X\r\n",
        "                 y=\"sepal_length\"         #Data untuk sumbu Y\r\n",
        "                 )\r\n",
        "```\r\n",
        "\r\n",
        "\r\n"
      ]
    },
    {
      "cell_type": "code",
      "metadata": {
        "id": "__UUUfXuS-xa"
      },
      "source": [
        "import plotly.express as px\r\n",
        "import pandas as pd\r\n",
        "#Menyiapkan Data\r\n",
        "df = pd.read_csv('https://raw.githubusercontent.com/eliyanto29/My-Academics-Paper-On-Data-Science/master/FCM-Core-and-Reduct/iris_dataset.csv')\r\n",
        "df['species'] = df['species'].astype('string')"
      ],
      "execution_count": null,
      "outputs": []
    },
    {
      "cell_type": "markdown",
      "metadata": {
        "id": "63oUwmZATWvq"
      },
      "source": [
        "Ketikkan Code di bawah Ini\r\n",
        "\r\n",
        "![alt text](https://drive.google.com/uc?id=1r5M0XJcg51043m06DeHpC5Tq7DxPf56U\r\n",
        ")\r\n",
        "\r\n"
      ]
    },
    {
      "cell_type": "markdown",
      "metadata": {
        "id": "yvmn-bOHVThg"
      },
      "source": [
        "Output Yang Diharapkan\r\n",
        "\r\n",
        "![alt text](https://drive.google.com/uc?id=1vdNniQ0SzvD99XyXj_VAdhBs8u0GxUiy\r\n",
        ")\r\n"
      ]
    },
    {
      "cell_type": "code",
      "metadata": {
        "id": "Mh8wYXuA8R4d"
      },
      "source": [
        "#Membuat Plot Scatter\r\n"
      ],
      "execution_count": null,
      "outputs": []
    },
    {
      "cell_type": "markdown",
      "metadata": {
        "id": "czULWgqpTZp8"
      },
      "source": [
        "## Line Plot"
      ]
    },
    {
      "cell_type": "markdown",
      "metadata": {
        "id": "Yce2YXP_Xgtw"
      },
      "source": [
        "Line Plot atau Diagram garis digunakan untuk mevisualisasikan data dalam bentuk garis. Tujuannya adalah untuk melihat pergerakan sebuah data apakah menaik atau menurun."
      ]
    },
    {
      "cell_type": "code",
      "metadata": {
        "id": "AvH1H9jpS5Ql"
      },
      "source": [
        "import numpy as np\r\n",
        "import plotly.graph_objects as go\r\n",
        "confirmed_cases_file_link='https://raw.githubusercontent.com/CSSEGISandData/COVID-19/master/csse_covid_19_data/csse_covid_19_time_series/time_series_covid19_confirmed_global.csv'\r\n"
      ],
      "execution_count": null,
      "outputs": []
    },
    {
      "cell_type": "markdown",
      "metadata": {
        "id": "BanJDi6MV0tt"
      },
      "source": [
        "Ketikkan Code Pada Gambar\r\n",
        "\r\n",
        "![alt text](https://drive.google.com/uc?id=1hJfKWDf7UWQb1PEgIclj4NdJqVPOU0Hf\r\n",
        ")\r\n"
      ]
    },
    {
      "cell_type": "code",
      "metadata": {
        "id": "Aj6a7vZtPzzM"
      },
      "source": [
        "#Mengambil Data Yang Dibutuhkan\r\n"
      ],
      "execution_count": null,
      "outputs": []
    },
    {
      "cell_type": "code",
      "metadata": {
        "colab": {
          "base_uri": "https://localhost:8080/",
          "height": 419
        },
        "id": "twxi1CB0T7Wc",
        "outputId": "456dc5b7-5b2b-4362-8803-7de07b4795b9"
      },
      "source": [
        "indo_conf"
      ],
      "execution_count": null,
      "outputs": [
        {
          "output_type": "execute_result",
          "data": {
            "text/html": [
              "<div>\n",
              "<style scoped>\n",
              "    .dataframe tbody tr th:only-of-type {\n",
              "        vertical-align: middle;\n",
              "    }\n",
              "\n",
              "    .dataframe tbody tr th {\n",
              "        vertical-align: top;\n",
              "    }\n",
              "\n",
              "    .dataframe thead th {\n",
              "        text-align: right;\n",
              "    }\n",
              "</style>\n",
              "<table border=\"1\" class=\"dataframe\">\n",
              "  <thead>\n",
              "    <tr style=\"text-align: right;\">\n",
              "      <th></th>\n",
              "      <th>Conf</th>\n",
              "    </tr>\n",
              "  </thead>\n",
              "  <tbody>\n",
              "    <tr>\n",
              "      <th>1/22/20</th>\n",
              "      <td>0</td>\n",
              "    </tr>\n",
              "    <tr>\n",
              "      <th>1/23/20</th>\n",
              "      <td>0</td>\n",
              "    </tr>\n",
              "    <tr>\n",
              "      <th>1/24/20</th>\n",
              "      <td>0</td>\n",
              "    </tr>\n",
              "    <tr>\n",
              "      <th>1/25/20</th>\n",
              "      <td>0</td>\n",
              "    </tr>\n",
              "    <tr>\n",
              "      <th>1/26/20</th>\n",
              "      <td>0</td>\n",
              "    </tr>\n",
              "    <tr>\n",
              "      <th>...</th>\n",
              "      <td>...</td>\n",
              "    </tr>\n",
              "    <tr>\n",
              "      <th>12/15/20</th>\n",
              "      <td>629429</td>\n",
              "    </tr>\n",
              "    <tr>\n",
              "      <th>12/16/20</th>\n",
              "      <td>636154</td>\n",
              "    </tr>\n",
              "    <tr>\n",
              "      <th>12/17/20</th>\n",
              "      <td>643508</td>\n",
              "    </tr>\n",
              "    <tr>\n",
              "      <th>12/18/20</th>\n",
              "      <td>650197</td>\n",
              "    </tr>\n",
              "    <tr>\n",
              "      <th>12/19/20</th>\n",
              "      <td>657948</td>\n",
              "    </tr>\n",
              "  </tbody>\n",
              "</table>\n",
              "<p>333 rows × 1 columns</p>\n",
              "</div>"
            ],
            "text/plain": [
              "            Conf\n",
              "1/22/20        0\n",
              "1/23/20        0\n",
              "1/24/20        0\n",
              "1/25/20        0\n",
              "1/26/20        0\n",
              "...          ...\n",
              "12/15/20  629429\n",
              "12/16/20  636154\n",
              "12/17/20  643508\n",
              "12/18/20  650197\n",
              "12/19/20  657948\n",
              "\n",
              "[333 rows x 1 columns]"
            ]
          },
          "metadata": {
            "tags": []
          },
          "execution_count": 47
        }
      ]
    },
    {
      "cell_type": "markdown",
      "metadata": {
        "id": "MZGDVyVoaDXb"
      },
      "source": [
        "Ketikkan Code Di Bawah Ini\r\n",
        "\r\n",
        "![alt text](https://drive.google.com/uc?id=1EHRseUX7MbvDY1rc1sClJy6KA0KkVUDe\r\n",
        ")\r\n",
        "\r\n"
      ]
    },
    {
      "cell_type": "markdown",
      "metadata": {
        "id": "yX9X8bKiabL8"
      },
      "source": [
        "Hasil Yang Diharapkan\r\n",
        "\r\n",
        "![alt text](https://drive.google.com/uc?id=1i_jiVByxp4uRhfCfOEQzyqQKXCB2iOyn\r\n",
        ")\r\n",
        "\r\n"
      ]
    },
    {
      "cell_type": "code",
      "metadata": {
        "id": "OXFRSKm9Q8UR"
      },
      "source": [
        "#Membuat Plot Line\r\n"
      ],
      "execution_count": null,
      "outputs": []
    },
    {
      "cell_type": "markdown",
      "metadata": {
        "id": "n7S5q-5FbHX-"
      },
      "source": [
        "## Bar Plot"
      ]
    },
    {
      "cell_type": "markdown",
      "metadata": {
        "id": "BlopMJi7bMxt"
      },
      "source": [
        "Bar plot atau diagram batang, diagra ini cocok untuk membandingkan nilai data yang cukup banyak. Berfungsi untuk melihat kenaikan atau penurunan data."
      ]
    },
    {
      "cell_type": "code",
      "metadata": {
        "colab": {
          "base_uri": "https://localhost:8080/",
          "height": 483
        },
        "id": "WG7ELhW-UPz6",
        "outputId": "c15b9638-c020-4c78-bd28-514f2868890e"
      },
      "source": [
        "indo_conf_minggu_terakhir=indo_conf.iloc[-14:,::]\r\n",
        "indo_conf2=indo_conf_minggu_terakhir\r\n",
        "indo_conf2"
      ],
      "execution_count": null,
      "outputs": [
        {
          "output_type": "execute_result",
          "data": {
            "text/html": [
              "<div>\n",
              "<style scoped>\n",
              "    .dataframe tbody tr th:only-of-type {\n",
              "        vertical-align: middle;\n",
              "    }\n",
              "\n",
              "    .dataframe tbody tr th {\n",
              "        vertical-align: top;\n",
              "    }\n",
              "\n",
              "    .dataframe thead th {\n",
              "        text-align: right;\n",
              "    }\n",
              "</style>\n",
              "<table border=\"1\" class=\"dataframe\">\n",
              "  <thead>\n",
              "    <tr style=\"text-align: right;\">\n",
              "      <th></th>\n",
              "      <th>Conf</th>\n",
              "    </tr>\n",
              "  </thead>\n",
              "  <tbody>\n",
              "    <tr>\n",
              "      <th>12/6/20</th>\n",
              "      <td>575796</td>\n",
              "    </tr>\n",
              "    <tr>\n",
              "      <th>12/7/20</th>\n",
              "      <td>581550</td>\n",
              "    </tr>\n",
              "    <tr>\n",
              "      <th>12/8/20</th>\n",
              "      <td>586842</td>\n",
              "    </tr>\n",
              "    <tr>\n",
              "      <th>12/9/20</th>\n",
              "      <td>592900</td>\n",
              "    </tr>\n",
              "    <tr>\n",
              "      <th>12/10/20</th>\n",
              "      <td>598933</td>\n",
              "    </tr>\n",
              "    <tr>\n",
              "      <th>12/11/20</th>\n",
              "      <td>605243</td>\n",
              "    </tr>\n",
              "    <tr>\n",
              "      <th>12/12/20</th>\n",
              "      <td>611631</td>\n",
              "    </tr>\n",
              "    <tr>\n",
              "      <th>12/13/20</th>\n",
              "      <td>617820</td>\n",
              "    </tr>\n",
              "    <tr>\n",
              "      <th>12/14/20</th>\n",
              "      <td>623309</td>\n",
              "    </tr>\n",
              "    <tr>\n",
              "      <th>12/15/20</th>\n",
              "      <td>629429</td>\n",
              "    </tr>\n",
              "    <tr>\n",
              "      <th>12/16/20</th>\n",
              "      <td>636154</td>\n",
              "    </tr>\n",
              "    <tr>\n",
              "      <th>12/17/20</th>\n",
              "      <td>643508</td>\n",
              "    </tr>\n",
              "    <tr>\n",
              "      <th>12/18/20</th>\n",
              "      <td>650197</td>\n",
              "    </tr>\n",
              "    <tr>\n",
              "      <th>12/19/20</th>\n",
              "      <td>657948</td>\n",
              "    </tr>\n",
              "  </tbody>\n",
              "</table>\n",
              "</div>"
            ],
            "text/plain": [
              "            Conf\n",
              "12/6/20   575796\n",
              "12/7/20   581550\n",
              "12/8/20   586842\n",
              "12/9/20   592900\n",
              "12/10/20  598933\n",
              "12/11/20  605243\n",
              "12/12/20  611631\n",
              "12/13/20  617820\n",
              "12/14/20  623309\n",
              "12/15/20  629429\n",
              "12/16/20  636154\n",
              "12/17/20  643508\n",
              "12/18/20  650197\n",
              "12/19/20  657948"
            ]
          },
          "metadata": {
            "tags": []
          },
          "execution_count": 56
        }
      ]
    },
    {
      "cell_type": "markdown",
      "metadata": {
        "id": "Vz3VZwdobg_n"
      },
      "source": [
        "Ketikkan Code Berikut\r\n",
        "\r\n",
        "![alt text](https://drive.google.com/uc?id=109WUbfwvfDyWsOABbgLY1dyFiygfrw52\r\n",
        ")\r\n"
      ]
    },
    {
      "cell_type": "markdown",
      "metadata": {
        "id": "a4QiEb8Nbheu"
      },
      "source": [
        "Output yang diharapkan\r\n",
        "\r\n",
        "![alt text](https://drive.google.com/uc?id=1xnPzAFV9M2ZqPsfx2JEQCL0xt-9ALloK\r\n",
        ")\r\n",
        "\r\n"
      ]
    },
    {
      "cell_type": "code",
      "metadata": {
        "id": "ezGbsj6xKaxU"
      },
      "source": [
        "#Membuat Plot Bar\r\n",
        "\r\n"
      ],
      "execution_count": null,
      "outputs": []
    },
    {
      "cell_type": "markdown",
      "metadata": {
        "id": "WFqEs6jhb9t4"
      },
      "source": [
        "## Pie Plot"
      ]
    },
    {
      "cell_type": "markdown",
      "metadata": {
        "id": "3Tv7Fs96b_H5"
      },
      "source": [
        "Vsualisasi diagram lingkaran fokus untuk menampilkan perbandingan data. Lebih baik digunakan untuk jumlah variabel yang sedikit."
      ]
    },
    {
      "cell_type": "code",
      "metadata": {
        "colab": {
          "base_uri": "https://localhost:8080/",
          "height": 542
        },
        "id": "c14nk9MWU7u0",
        "outputId": "dd7efcc3-b299-4670-8ccc-99eb73a55d23"
      },
      "source": [
        "import plotly.graph_objects as go\r\n",
        "\r\n",
        "labels = ['Oxygen','Hydrogen','Carbon_Dioxide','Nitrogen']\r\n",
        "values = [4500, 2500, 1053, 500]\r\n",
        "\r\n",
        "fig = go.Figure(data=[go.Pie(labels=labels, values=values)])\r\n",
        "fig.show()"
      ],
      "execution_count": null,
      "outputs": [
        {
          "output_type": "display_data",
          "data": {
            "text/html": [
              "<html>\n",
              "<head><meta charset=\"utf-8\" /></head>\n",
              "<body>\n",
              "    <div>\n",
              "            <script src=\"https://cdnjs.cloudflare.com/ajax/libs/mathjax/2.7.5/MathJax.js?config=TeX-AMS-MML_SVG\"></script><script type=\"text/javascript\">if (window.MathJax) {MathJax.Hub.Config({SVG: {font: \"STIX-Web\"}});}</script>\n",
              "                <script type=\"text/javascript\">window.PlotlyConfig = {MathJaxConfig: 'local'};</script>\n",
              "        <script src=\"https://cdn.plot.ly/plotly-latest.min.js\"></script>    \n",
              "            <div id=\"7c903619-6f59-4e03-bc04-a0202dc1ea53\" class=\"plotly-graph-div\" style=\"height:525px; width:100%;\"></div>\n",
              "            <script type=\"text/javascript\">\n",
              "                \n",
              "                    window.PLOTLYENV=window.PLOTLYENV || {};\n",
              "                    \n",
              "                if (document.getElementById(\"7c903619-6f59-4e03-bc04-a0202dc1ea53\")) {\n",
              "                    Plotly.newPlot(\n",
              "                        '7c903619-6f59-4e03-bc04-a0202dc1ea53',\n",
              "                        [{\"labels\": [\"Oxygen\", \"Hydrogen\", \"Carbon_Dioxide\", \"Nitrogen\"], \"type\": \"pie\", \"values\": [4500, 2500, 1053, 500]}],\n",
              "                        {\"template\": {\"data\": {\"bar\": [{\"error_x\": {\"color\": \"#2a3f5f\"}, \"error_y\": {\"color\": \"#2a3f5f\"}, \"marker\": {\"line\": {\"color\": \"#E5ECF6\", \"width\": 0.5}}, \"type\": \"bar\"}], \"barpolar\": [{\"marker\": {\"line\": {\"color\": \"#E5ECF6\", \"width\": 0.5}}, \"type\": \"barpolar\"}], \"carpet\": [{\"aaxis\": {\"endlinecolor\": \"#2a3f5f\", \"gridcolor\": \"white\", \"linecolor\": \"white\", \"minorgridcolor\": \"white\", \"startlinecolor\": \"#2a3f5f\"}, \"baxis\": {\"endlinecolor\": \"#2a3f5f\", \"gridcolor\": \"white\", \"linecolor\": \"white\", \"minorgridcolor\": \"white\", \"startlinecolor\": \"#2a3f5f\"}, \"type\": \"carpet\"}], \"choropleth\": [{\"colorbar\": {\"outlinewidth\": 0, \"ticks\": \"\"}, \"type\": \"choropleth\"}], \"contour\": [{\"colorbar\": {\"outlinewidth\": 0, \"ticks\": \"\"}, \"colorscale\": [[0.0, \"#0d0887\"], [0.1111111111111111, \"#46039f\"], [0.2222222222222222, \"#7201a8\"], [0.3333333333333333, \"#9c179e\"], [0.4444444444444444, \"#bd3786\"], [0.5555555555555556, \"#d8576b\"], [0.6666666666666666, \"#ed7953\"], [0.7777777777777778, \"#fb9f3a\"], [0.8888888888888888, \"#fdca26\"], [1.0, \"#f0f921\"]], \"type\": \"contour\"}], \"contourcarpet\": [{\"colorbar\": {\"outlinewidth\": 0, \"ticks\": \"\"}, \"type\": \"contourcarpet\"}], \"heatmap\": [{\"colorbar\": {\"outlinewidth\": 0, \"ticks\": \"\"}, \"colorscale\": [[0.0, \"#0d0887\"], [0.1111111111111111, \"#46039f\"], [0.2222222222222222, \"#7201a8\"], [0.3333333333333333, \"#9c179e\"], [0.4444444444444444, \"#bd3786\"], [0.5555555555555556, \"#d8576b\"], [0.6666666666666666, \"#ed7953\"], [0.7777777777777778, \"#fb9f3a\"], [0.8888888888888888, \"#fdca26\"], [1.0, \"#f0f921\"]], \"type\": \"heatmap\"}], \"heatmapgl\": [{\"colorbar\": {\"outlinewidth\": 0, \"ticks\": \"\"}, \"colorscale\": [[0.0, \"#0d0887\"], [0.1111111111111111, \"#46039f\"], [0.2222222222222222, \"#7201a8\"], [0.3333333333333333, \"#9c179e\"], [0.4444444444444444, \"#bd3786\"], [0.5555555555555556, \"#d8576b\"], [0.6666666666666666, \"#ed7953\"], [0.7777777777777778, \"#fb9f3a\"], [0.8888888888888888, \"#fdca26\"], [1.0, \"#f0f921\"]], \"type\": \"heatmapgl\"}], \"histogram\": [{\"marker\": {\"colorbar\": {\"outlinewidth\": 0, \"ticks\": \"\"}}, \"type\": \"histogram\"}], \"histogram2d\": [{\"colorbar\": {\"outlinewidth\": 0, \"ticks\": \"\"}, \"colorscale\": [[0.0, \"#0d0887\"], [0.1111111111111111, \"#46039f\"], [0.2222222222222222, \"#7201a8\"], [0.3333333333333333, \"#9c179e\"], [0.4444444444444444, \"#bd3786\"], [0.5555555555555556, \"#d8576b\"], [0.6666666666666666, \"#ed7953\"], [0.7777777777777778, \"#fb9f3a\"], [0.8888888888888888, \"#fdca26\"], [1.0, \"#f0f921\"]], \"type\": \"histogram2d\"}], \"histogram2dcontour\": [{\"colorbar\": {\"outlinewidth\": 0, \"ticks\": \"\"}, \"colorscale\": [[0.0, \"#0d0887\"], [0.1111111111111111, \"#46039f\"], [0.2222222222222222, \"#7201a8\"], [0.3333333333333333, \"#9c179e\"], [0.4444444444444444, \"#bd3786\"], [0.5555555555555556, \"#d8576b\"], [0.6666666666666666, \"#ed7953\"], [0.7777777777777778, \"#fb9f3a\"], [0.8888888888888888, \"#fdca26\"], [1.0, \"#f0f921\"]], \"type\": \"histogram2dcontour\"}], \"mesh3d\": [{\"colorbar\": {\"outlinewidth\": 0, \"ticks\": \"\"}, \"type\": \"mesh3d\"}], \"parcoords\": [{\"line\": {\"colorbar\": {\"outlinewidth\": 0, \"ticks\": \"\"}}, \"type\": \"parcoords\"}], \"pie\": [{\"automargin\": true, \"type\": \"pie\"}], \"scatter\": [{\"marker\": {\"colorbar\": {\"outlinewidth\": 0, \"ticks\": \"\"}}, \"type\": \"scatter\"}], \"scatter3d\": [{\"line\": {\"colorbar\": {\"outlinewidth\": 0, \"ticks\": \"\"}}, \"marker\": {\"colorbar\": {\"outlinewidth\": 0, \"ticks\": \"\"}}, \"type\": \"scatter3d\"}], \"scattercarpet\": [{\"marker\": {\"colorbar\": {\"outlinewidth\": 0, \"ticks\": \"\"}}, \"type\": \"scattercarpet\"}], \"scattergeo\": [{\"marker\": {\"colorbar\": {\"outlinewidth\": 0, \"ticks\": \"\"}}, \"type\": \"scattergeo\"}], \"scattergl\": [{\"marker\": {\"colorbar\": {\"outlinewidth\": 0, \"ticks\": \"\"}}, \"type\": \"scattergl\"}], \"scattermapbox\": [{\"marker\": {\"colorbar\": {\"outlinewidth\": 0, \"ticks\": \"\"}}, \"type\": \"scattermapbox\"}], \"scatterpolar\": [{\"marker\": {\"colorbar\": {\"outlinewidth\": 0, \"ticks\": \"\"}}, \"type\": \"scatterpolar\"}], \"scatterpolargl\": [{\"marker\": {\"colorbar\": {\"outlinewidth\": 0, \"ticks\": \"\"}}, \"type\": \"scatterpolargl\"}], \"scatterternary\": [{\"marker\": {\"colorbar\": {\"outlinewidth\": 0, \"ticks\": \"\"}}, \"type\": \"scatterternary\"}], \"surface\": [{\"colorbar\": {\"outlinewidth\": 0, \"ticks\": \"\"}, \"colorscale\": [[0.0, \"#0d0887\"], [0.1111111111111111, \"#46039f\"], [0.2222222222222222, \"#7201a8\"], [0.3333333333333333, \"#9c179e\"], [0.4444444444444444, \"#bd3786\"], [0.5555555555555556, \"#d8576b\"], [0.6666666666666666, \"#ed7953\"], [0.7777777777777778, \"#fb9f3a\"], [0.8888888888888888, \"#fdca26\"], [1.0, \"#f0f921\"]], \"type\": \"surface\"}], \"table\": [{\"cells\": {\"fill\": {\"color\": \"#EBF0F8\"}, \"line\": {\"color\": \"white\"}}, \"header\": {\"fill\": {\"color\": \"#C8D4E3\"}, \"line\": {\"color\": \"white\"}}, \"type\": \"table\"}]}, \"layout\": {\"annotationdefaults\": {\"arrowcolor\": \"#2a3f5f\", \"arrowhead\": 0, \"arrowwidth\": 1}, \"coloraxis\": {\"colorbar\": {\"outlinewidth\": 0, \"ticks\": \"\"}}, \"colorscale\": {\"diverging\": [[0, \"#8e0152\"], [0.1, \"#c51b7d\"], [0.2, \"#de77ae\"], [0.3, \"#f1b6da\"], [0.4, \"#fde0ef\"], [0.5, \"#f7f7f7\"], [0.6, \"#e6f5d0\"], [0.7, \"#b8e186\"], [0.8, \"#7fbc41\"], [0.9, \"#4d9221\"], [1, \"#276419\"]], \"sequential\": [[0.0, \"#0d0887\"], [0.1111111111111111, \"#46039f\"], [0.2222222222222222, \"#7201a8\"], [0.3333333333333333, \"#9c179e\"], [0.4444444444444444, \"#bd3786\"], [0.5555555555555556, \"#d8576b\"], [0.6666666666666666, \"#ed7953\"], [0.7777777777777778, \"#fb9f3a\"], [0.8888888888888888, \"#fdca26\"], [1.0, \"#f0f921\"]], \"sequentialminus\": [[0.0, \"#0d0887\"], [0.1111111111111111, \"#46039f\"], [0.2222222222222222, \"#7201a8\"], [0.3333333333333333, \"#9c179e\"], [0.4444444444444444, \"#bd3786\"], [0.5555555555555556, \"#d8576b\"], [0.6666666666666666, \"#ed7953\"], [0.7777777777777778, \"#fb9f3a\"], [0.8888888888888888, \"#fdca26\"], [1.0, \"#f0f921\"]]}, \"colorway\": [\"#636efa\", \"#EF553B\", \"#00cc96\", \"#ab63fa\", \"#FFA15A\", \"#19d3f3\", \"#FF6692\", \"#B6E880\", \"#FF97FF\", \"#FECB52\"], \"font\": {\"color\": \"#2a3f5f\"}, \"geo\": {\"bgcolor\": \"white\", \"lakecolor\": \"white\", \"landcolor\": \"#E5ECF6\", \"showlakes\": true, \"showland\": true, \"subunitcolor\": \"white\"}, \"hoverlabel\": {\"align\": \"left\"}, \"hovermode\": \"closest\", \"mapbox\": {\"style\": \"light\"}, \"paper_bgcolor\": \"white\", \"plot_bgcolor\": \"#E5ECF6\", \"polar\": {\"angularaxis\": {\"gridcolor\": \"white\", \"linecolor\": \"white\", \"ticks\": \"\"}, \"bgcolor\": \"#E5ECF6\", \"radialaxis\": {\"gridcolor\": \"white\", \"linecolor\": \"white\", \"ticks\": \"\"}}, \"scene\": {\"xaxis\": {\"backgroundcolor\": \"#E5ECF6\", \"gridcolor\": \"white\", \"gridwidth\": 2, \"linecolor\": \"white\", \"showbackground\": true, \"ticks\": \"\", \"zerolinecolor\": \"white\"}, \"yaxis\": {\"backgroundcolor\": \"#E5ECF6\", \"gridcolor\": \"white\", \"gridwidth\": 2, \"linecolor\": \"white\", \"showbackground\": true, \"ticks\": \"\", \"zerolinecolor\": \"white\"}, \"zaxis\": {\"backgroundcolor\": \"#E5ECF6\", \"gridcolor\": \"white\", \"gridwidth\": 2, \"linecolor\": \"white\", \"showbackground\": true, \"ticks\": \"\", \"zerolinecolor\": \"white\"}}, \"shapedefaults\": {\"line\": {\"color\": \"#2a3f5f\"}}, \"ternary\": {\"aaxis\": {\"gridcolor\": \"white\", \"linecolor\": \"white\", \"ticks\": \"\"}, \"baxis\": {\"gridcolor\": \"white\", \"linecolor\": \"white\", \"ticks\": \"\"}, \"bgcolor\": \"#E5ECF6\", \"caxis\": {\"gridcolor\": \"white\", \"linecolor\": \"white\", \"ticks\": \"\"}}, \"title\": {\"x\": 0.05}, \"xaxis\": {\"automargin\": true, \"gridcolor\": \"white\", \"linecolor\": \"white\", \"ticks\": \"\", \"title\": {\"standoff\": 15}, \"zerolinecolor\": \"white\", \"zerolinewidth\": 2}, \"yaxis\": {\"automargin\": true, \"gridcolor\": \"white\", \"linecolor\": \"white\", \"ticks\": \"\", \"title\": {\"standoff\": 15}, \"zerolinecolor\": \"white\", \"zerolinewidth\": 2}}}},\n",
              "                        {\"responsive\": true}\n",
              "                    ).then(function(){\n",
              "                            \n",
              "var gd = document.getElementById('7c903619-6f59-4e03-bc04-a0202dc1ea53');\n",
              "var x = new MutationObserver(function (mutations, observer) {{\n",
              "        var display = window.getComputedStyle(gd).display;\n",
              "        if (!display || display === 'none') {{\n",
              "            console.log([gd, 'removed!']);\n",
              "            Plotly.purge(gd);\n",
              "            observer.disconnect();\n",
              "        }}\n",
              "}});\n",
              "\n",
              "// Listen for the removal of the full notebook cells\n",
              "var notebookContainer = gd.closest('#notebook-container');\n",
              "if (notebookContainer) {{\n",
              "    x.observe(notebookContainer, {childList: true});\n",
              "}}\n",
              "\n",
              "// Listen for the clearing of the current output cell\n",
              "var outputEl = gd.closest('.output');\n",
              "if (outputEl) {{\n",
              "    x.observe(outputEl, {childList: true});\n",
              "}}\n",
              "\n",
              "                        })\n",
              "                };\n",
              "                \n",
              "            </script>\n",
              "        </div>\n",
              "</body>\n",
              "</html>"
            ]
          },
          "metadata": {
            "tags": []
          }
        }
      ]
    },
    {
      "cell_type": "markdown",
      "metadata": {
        "id": "eF5jwskZXLuD"
      },
      "source": [
        "**Tugas Pie Plot**\r\n",
        "\r\n",
        "Buatlah Suatu Visualisasi Data Pie Plot lengkap dengan Tittle dan Legend dengan datamu sendiri!"
      ]
    },
    {
      "cell_type": "code",
      "metadata": {
        "id": "NRRs1RddXXU1"
      },
      "source": [
        "#Ketikkan Kodemu Di Ini\r\n",
        "\r\n",
        "\r\n"
      ],
      "execution_count": null,
      "outputs": []
    }
  ]
}